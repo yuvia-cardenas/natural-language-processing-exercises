{
 "cells": [
  {
   "cell_type": "code",
   "execution_count": 22,
   "id": "b7eb68e7",
   "metadata": {},
   "outputs": [],
   "source": [
    "import re\n",
    "import pandas as pd"
   ]
  },
  {
   "cell_type": "code",
   "execution_count": 23,
   "id": "a7783c1d",
   "metadata": {},
   "outputs": [],
   "source": [
    "string2 = 'It was a great day to be alive!'"
   ]
  },
  {
   "cell_type": "code",
   "execution_count": 24,
   "id": "5f7dcae1",
   "metadata": {},
   "outputs": [],
   "source": [
    "string = 'Two households, both alike in dignity, In fair Verona, where we lay our scene, From ancient grudge break to new mutiny, Where civil blood makes civil hands unclean.'"
   ]
  },
  {
   "cell_type": "code",
   "execution_count": 29,
   "id": "4e7f256e",
   "metadata": {},
   "outputs": [
    {
     "data": {
      "text/plain": [
       "'In fair Verona'"
      ]
     },
     "execution_count": 29,
     "metadata": {},
     "output_type": "execute_result"
    }
   ],
   "source": [
    "re.search(r\"In fair Verona\", string).group()"
   ]
  },
  {
   "cell_type": "code",
   "execution_count": 26,
   "id": "1764b278",
   "metadata": {},
   "outputs": [
    {
     "data": {
      "text/plain": [
       "<re.Match object; span=(126, 131), match='civil'>"
      ]
     },
     "execution_count": 26,
     "metadata": {},
     "output_type": "execute_result"
    }
   ],
   "source": [
    "re.search(r\"civil\", string)"
   ]
  },
  {
   "cell_type": "code",
   "execution_count": 27,
   "id": "3b9d6b3e",
   "metadata": {},
   "outputs": [
    {
     "data": {
      "text/plain": [
       "['civil', 'civil']"
      ]
     },
     "execution_count": 27,
     "metadata": {},
     "output_type": "execute_result"
    }
   ],
   "source": [
    "re.findall(r\"civil\", string)"
   ]
  },
  {
   "cell_type": "code",
   "execution_count": 28,
   "id": "e12fe7dd",
   "metadata": {},
   "outputs": [
    {
     "data": {
      "text/plain": [
       "['l',\n",
       " 'l',\n",
       " 'i',\n",
       " 'i',\n",
       " 'i',\n",
       " 'i',\n",
       " 'i',\n",
       " 'l',\n",
       " 'i',\n",
       " 'i',\n",
       " 'i',\n",
       " 'v',\n",
       " 'i',\n",
       " 'l',\n",
       " 'l',\n",
       " 'i',\n",
       " 'v',\n",
       " 'i',\n",
       " 'l',\n",
       " 'l']"
      ]
     },
     "execution_count": 28,
     "metadata": {},
     "output_type": "execute_result"
    }
   ],
   "source": [
    "re.findall(r\"[vil]\", string)"
   ]
  },
  {
   "cell_type": "code",
   "execution_count": 21,
   "id": "916c65b6",
   "metadata": {},
   "outputs": [],
   "source": [
    "re.search(r\"two\", string, re.IGNORECASE)"
   ]
  },
  {
   "cell_type": "code",
   "execution_count": 24,
   "id": "8830b52a",
   "metadata": {},
   "outputs": [
    {
     "data": {
      "text/plain": [
       "<re.Match object; span=(0, 1), match='a'>"
      ]
     },
     "execution_count": 24,
     "metadata": {},
     "output_type": "execute_result"
    }
   ],
   "source": [
    "# regualr expression search (parenthesis r quotes then what you are searching coma quotes and list or arguement\n",
    "# coma and additional reg ex flag)\n",
    "re.search(r\"A\", \"aaaaaaaaaaaa\", re.IGNORECASE)"
   ]
  },
  {
   "cell_type": "markdown",
   "id": "85315a8b",
   "metadata": {},
   "source": [
    "### Exercises"
   ]
  },
  {
   "cell_type": "code",
   "execution_count": 30,
   "id": "04bd7b30",
   "metadata": {},
   "outputs": [],
   "source": [
    "import re\n",
    "import pandas as pd"
   ]
  },
  {
   "cell_type": "code",
   "execution_count": 36,
   "id": "e8695f3d",
   "metadata": {},
   "outputs": [
    {
     "data": {
      "text/plain": [
       "<re.Match object; span=(0, 1), match='I'>"
      ]
     },
     "execution_count": 36,
     "metadata": {},
     "output_type": "execute_result"
    }
   ],
   "source": [
    "re.search(r'[aeiou]', string, re.IGNORECASE)"
   ]
  },
  {
   "cell_type": "code",
   "execution_count": 35,
   "id": "3915e4ae",
   "metadata": {},
   "outputs": [
    {
     "data": {
      "text/plain": [
       "<re.Match object; span=(0, 1), match='I'>"
      ]
     },
     "execution_count": 35,
     "metadata": {},
     "output_type": "execute_result"
    }
   ],
   "source": [
    "re.search(r'[aeiou]', string2, re.IGNORECASE)"
   ]
  },
  {
   "cell_type": "markdown",
   "id": "644f5b91",
   "metadata": {},
   "source": [
    "#### Write a function named is_vowel. It should accept a string as input and use a regular expression to determine if the passed string is a vowel. While not explicity mentioned in the lesson, you can treat the result of re.search as a boolean value that indicates whether or not the regular expression matches the given string."
   ]
  },
  {
   "cell_type": "code",
   "execution_count": 59,
   "id": "20b9b311",
   "metadata": {},
   "outputs": [],
   "source": [
    "def is_vowel(string):\n",
    "    answer = re.findall(r'[aeiou]', string, re.IGNORECASE)\n",
    "    if len(answer) > 0:\n",
    "        return True\n",
    "    else:\n",
    "        return False"
   ]
  },
  {
   "cell_type": "code",
   "execution_count": 66,
   "id": "beab036c",
   "metadata": {},
   "outputs": [],
   "source": [
    "def is_vowel1(string):\n",
    "    if re.findall(r'[aeiou]', string, re.IGNORECASE):\n",
    "        return True\n",
    "    else:\n",
    "        return False"
   ]
  },
  {
   "cell_type": "code",
   "execution_count": 171,
   "id": "4c9f3c8d",
   "metadata": {},
   "outputs": [
    {
     "data": {
      "text/plain": [
       "True"
      ]
     },
     "execution_count": 171,
     "metadata": {},
     "output_type": "execute_result"
    }
   ],
   "source": [
    "string ='It was a great day to be alive!'\n",
    "is_vowel(string)"
   ]
  },
  {
   "cell_type": "code",
   "execution_count": 68,
   "id": "f8e865cf",
   "metadata": {},
   "outputs": [
    {
     "data": {
      "text/plain": [
       "False"
      ]
     },
     "execution_count": 68,
     "metadata": {},
     "output_type": "execute_result"
    }
   ],
   "source": [
    "is_vowel1('ptsd')"
   ]
  },
  {
   "cell_type": "markdown",
   "id": "e72d35dc",
   "metadata": {},
   "source": [
    "#### Write a function named is_valid_username that accepts a string as input. A valid username starts with a lowercase letter, and only consists of lowercase letters, numbers, or the _ character. It should also be no longer than 32 characters. The function should return either True or False depending on whether the passed string is a valid username."
   ]
  },
  {
   "cell_type": "code",
   "execution_count": 145,
   "id": "844727d4",
   "metadata": {},
   "outputs": [],
   "source": [
    "def is_valid_username(string):\n",
    "    if re.search(r'^[a-z][a-z0-9_]{0,31}\\b', string):        \n",
    "        return True\n",
    "    else:\n",
    "        return False\n",
    "    "
   ]
  },
  {
   "cell_type": "code",
   "execution_count": 146,
   "id": "a11ccb39",
   "metadata": {},
   "outputs": [
    {
     "data": {
      "text/plain": [
       "False"
      ]
     },
     "execution_count": 146,
     "metadata": {},
     "output_type": "execute_result"
    }
   ],
   "source": [
    "is_valid_username('Codeup')"
   ]
  },
  {
   "cell_type": "code",
   "execution_count": 147,
   "id": "f6e5f6cd",
   "metadata": {},
   "outputs": [],
   "source": [
    "re.search(r'^[a-z][a-z0-9_]+', 'CodeUp')"
   ]
  },
  {
   "cell_type": "markdown",
   "id": "39f7bd41",
   "metadata": {},
   "source": [
    "#### Write a regular expression to capture phone numbers. It should match all of the following:"
   ]
  },
  {
   "cell_type": "code",
   "execution_count": 158,
   "id": "af13fcb7",
   "metadata": {},
   "outputs": [
    {
     "data": {
      "text/plain": [
       "['(210) 867 5309 +1 210.867.5309 867-5309 210-867-5309']"
      ]
     },
     "execution_count": 158,
     "metadata": {},
     "output_type": "execute_result"
    }
   ],
   "source": [
    "re.findall(r\"[(|)|0-9|+|.|\\-|\\s]+\", \"(210) 867 5309 +1 210.867.5309 867-5309 210-867-5309\")"
   ]
  },
  {
   "cell_type": "markdown",
   "id": "2caba895",
   "metadata": {},
   "source": [
    "#### Use regular expressions to convert the dates below to the standardized year-month-day format."
   ]
  },
  {
   "cell_type": "code",
   "execution_count": 150,
   "id": "32d91af3",
   "metadata": {},
   "outputs": [
    {
     "data": {
      "text/plain": [
       "['02/04/19',\n",
       " '02/05/19',\n",
       " '02/06/19',\n",
       " '02/07/19',\n",
       " '02/08/19',\n",
       " '02/09/19',\n",
       " '02/10/19']"
      ]
     },
     "execution_count": 150,
     "metadata": {},
     "output_type": "execute_result"
    }
   ],
   "source": [
    "re.findall(r'\\b\\d{1,2}/\\d{1,2}/\\d{2,4}\\b',  \"02/04/19 02/05/19 02/06/19 02/07/19 02/08/19 02/09/19 02/10/19\")"
   ]
  },
  {
   "cell_type": "code",
   "execution_count": 169,
   "id": "e9e3d5af",
   "metadata": {},
   "outputs": [],
   "source": [
    "def replace_date(string):\n",
    "    dates_list = re.findall(r'\\b\\d{1,2}/\\d{1,2}/\\d{2,4}\\b', string)\n",
    "    date_series = pd.Series(dates_list)\n",
    "    \n",
    "    return date_series.str.replace(r'(\\d{1,2})/(\\d{1,2})/(\\d{2,4})', r'20\\3-\\1-\\2', regex=True)"
   ]
  },
  {
   "cell_type": "code",
   "execution_count": 170,
   "id": "35a8e1c0",
   "metadata": {},
   "outputs": [
    {
     "data": {
      "text/plain": [
       "0    2019-02-04\n",
       "1    2019-02-05\n",
       "2    2019-02-06\n",
       "3    2019-02-07\n",
       "4    2019-02-08\n",
       "5    2019-02-09\n",
       "6    2019-02-10\n",
       "dtype: object"
      ]
     },
     "execution_count": 170,
     "metadata": {},
     "output_type": "execute_result"
    }
   ],
   "source": [
    "replace_date(\"02/04/19 02/05/19 02/06/19 02/07/19 02/08/19 02/09/19 02/10/19\")"
   ]
  },
  {
   "cell_type": "code",
   "execution_count": null,
   "id": "b2a23d57",
   "metadata": {},
   "outputs": [],
   "source": []
  }
 ],
 "metadata": {
  "kernelspec": {
   "display_name": "Python 3 (ipykernel)",
   "language": "python",
   "name": "python3"
  },
  "language_info": {
   "codemirror_mode": {
    "name": "ipython",
    "version": 3
   },
   "file_extension": ".py",
   "mimetype": "text/x-python",
   "name": "python",
   "nbconvert_exporter": "python",
   "pygments_lexer": "ipython3",
   "version": "3.9.12"
  }
 },
 "nbformat": 4,
 "nbformat_minor": 5
}
